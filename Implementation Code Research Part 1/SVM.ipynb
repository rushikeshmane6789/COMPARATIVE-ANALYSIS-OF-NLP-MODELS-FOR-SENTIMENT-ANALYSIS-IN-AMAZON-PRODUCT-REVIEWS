{
  "nbformat": 4,
  "nbformat_minor": 0,
  "metadata": {
    "colab": {
      "provenance": []
    },
    "kernelspec": {
      "name": "python3",
      "display_name": "Python 3"
    },
    "language_info": {
      "name": "python"
    }
  },
  "cells": [
    {
      "cell_type": "code",
      "execution_count": null,
      "metadata": {
        "id": "hYmrHgUlo6lq"
      },
      "outputs": [],
      "source": [
        "import pandas as pd\n",
        "\n",
        "# Load the dataset\n",
        "data = pd.read_csv('FinalDataset.tsv', sep='\\t', on_bad_lines='skip')\n"
      ]
    },
    {
      "cell_type": "code",
      "source": [
        "import re\n",
        "\n",
        "def clean_text(text):\n",
        "    # Remove any HTML tags\n",
        "    text = re.sub(r'<.*?>', '', text)\n",
        "    # Remove non-alphanumeric characters\n",
        "    text = re.sub(r'[^a-zA-Z0-9\\s]', '', text)\n",
        "    # Convert to lowercase\n",
        "    text = text.lower()\n",
        "    return text\n",
        "\n",
        "data['review_body'] = data['review_body'].apply(clean_text)\n"
      ],
      "metadata": {
        "id": "6ERL3VGCprCv"
      },
      "execution_count": null,
      "outputs": []
    },
    {
      "cell_type": "code",
      "source": [
        "from sklearn.model_selection import train_test_split\n",
        "\n",
        "X = data['review_body']\n",
        "y = data['star_rating']\n",
        "\n",
        "X_train, X_test, y_train, y_test = train_test_split(X, y, test_size=0.2, random_state=42)\n"
      ],
      "metadata": {
        "id": "hGTppcORps_N"
      },
      "execution_count": null,
      "outputs": []
    },
    {
      "cell_type": "code",
      "source": [
        "from sklearn.feature_extraction.text import TfidfVectorizer\n",
        "\n",
        "tfidf_vectorizer = TfidfVectorizer(max_features=5000)\n",
        "X_train_tfidf = tfidf_vectorizer.fit_transform(X_train)\n",
        "X_test_tfidf = tfidf_vectorizer.transform(X_test)\n"
      ],
      "metadata": {
        "id": "EGOq8eL6pviK"
      },
      "execution_count": null,
      "outputs": []
    },
    {
      "cell_type": "code",
      "source": [
        "from sklearn.svm import SVC\n",
        "from sklearn.metrics import classification_report, confusion_matrix, accuracy_score\n",
        "\n",
        "# Initialize the SVM model\n",
        "svm_model = SVC(kernel='linear')\n",
        "\n",
        "# Train the model\n",
        "svm_model.fit(X_train_tfidf, y_train)\n",
        "\n",
        "# Make predictions on the test set\n",
        "y_pred = svm_model.predict(X_test_tfidf)\n",
        "\n",
        "# Function to map original labels to new categories\n",
        "def map_sentiment(label):\n",
        "    if label in [1, 2]:\n",
        "        return 'negative'\n",
        "    elif label == 3:\n",
        "        return 'neutral'\n",
        "    else:\n",
        "        return 'positive'\n",
        "\n",
        "# Map the original labels to the new categories\n",
        "y_test_mapped = [map_sentiment(label) for label in y_test]\n",
        "y_pred_mapped = [map_sentiment(label) for label in y_pred]\n",
        "\n",
        "# Compute and print the confusion matrix\n",
        "print(\"\\nConfusion Matrix:\\n\", confusion_matrix(y_test_mapped, y_pred_mapped, labels=['negative', 'neutral', 'positive']))\n",
        "\n",
        "\n"
      ],
      "metadata": {
        "colab": {
          "base_uri": "https://localhost:8080/"
        },
        "id": "P7ysuM5epx1q",
        "outputId": "5ded0a44-77a4-4058-8f09-01f17860efa7"
      },
      "execution_count": null,
      "outputs": [
        {
          "output_type": "stream",
          "name": "stdout",
          "text": [
            "\n",
            "Confusion Matrix:\n",
            " [[ 502   27  188]\n",
            " [  42   27  140]\n",
            " [  82   21 2960]]\n"
          ]
        }
      ]
    },
    {
      "cell_type": "code",
      "source": [
        "# Predictions\n",
        "y_pred = svm_model.predict(X_test_tfidf)\n",
        "\n",
        "# Accuracy\n",
        "accuracy = accuracy_score(y_test, y_pred)\n",
        "print(f\"Accuracy: {accuracy * 100:.2f}%\")\n",
        "\n",
        "# Classification Report\n",
        "print(classification_report(y_test, y_pred))\n",
        "\n",
        "# Confusion Matrix\n",
        "print(\"\\nConfusion Matrix:\\n\", confusion_matrix(y_test_mapped, y_pred_mapped, labels=['negative', 'neutral', 'positive']))\n"
      ],
      "metadata": {
        "colab": {
          "base_uri": "https://localhost:8080/"
        },
        "id": "UHIIXWKfp9b0",
        "outputId": "a8f0104b-7b26-44aa-cea1-289779aef005"
      },
      "execution_count": null,
      "outputs": [
        {
          "output_type": "stream",
          "name": "stdout",
          "text": [
            "Accuracy: 75.13%\n",
            "              precision    recall  f1-score   support\n",
            "\n",
            "           1       0.65      0.73      0.69       541\n",
            "           2       0.50      0.05      0.09       176\n",
            "           3       0.36      0.13      0.19       209\n",
            "           4       0.41      0.06      0.10       451\n",
            "           5       0.79      0.97      0.87      2612\n",
            "\n",
            "    accuracy                           0.75      3989\n",
            "   macro avg       0.54      0.39      0.39      3989\n",
            "weighted avg       0.69      0.75      0.69      3989\n",
            "\n",
            "\n",
            "Confusion Matrix:\n",
            " [[ 502   27  188]\n",
            " [  42   27  140]\n",
            " [  82   21 2960]]\n"
          ]
        }
      ]
    },
    {
      "cell_type": "code",
      "source": [
        "import numpy as np\n",
        "\n",
        "# Get feature importance\n",
        "feature_importance = svm_model.coef_\n",
        "\n",
        "# Get top 10 important features\n",
        "top10_indices = np.argsort(feature_importance)[-10:]\n",
        "top10_features = [tfidf_vectorizer.get_feature_names_out()[i] for i in top10_indices]\n",
        "\n",
        "print(\"Top 10 important features:\", top10_features)\n"
      ],
      "metadata": {
        "colab": {
          "base_uri": "https://localhost:8080/"
        },
        "id": "oV4P-qHEp_t5",
        "outputId": "1819641d-3ed5-4573-e947-a672c15e6978"
      },
      "execution_count": null,
      "outputs": [
        {
          "output_type": "stream",
          "name": "stdout",
          "text": [
            "Top 10 important features: ['09']\n"
          ]
        }
      ]
    }
  ]
}