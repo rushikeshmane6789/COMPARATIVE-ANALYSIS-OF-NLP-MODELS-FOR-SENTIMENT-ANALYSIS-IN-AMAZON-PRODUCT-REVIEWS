{
  "nbformat": 4,
  "nbformat_minor": 0,
  "metadata": {
    "colab": {
      "provenance": []
    },
    "kernelspec": {
      "name": "python3",
      "display_name": "Python 3"
    },
    "language_info": {
      "name": "python"
    }
  },
  "cells": [
    {
      "cell_type": "code",
      "execution_count": null,
      "metadata": {
        "id": "jgEpLpNlq2Gz"
      },
      "outputs": [],
      "source": [
        "import pandas as pd\n",
        "import numpy as np\n",
        "from sklearn.model_selection import train_test_split\n",
        "from sklearn.preprocessing import LabelEncoder\n",
        "from tensorflow.keras.preprocessing.text import Tokenizer\n",
        "from tensorflow.keras.preprocessing.sequence import pad_sequences\n",
        "from tensorflow.keras.models import Sequential\n",
        "from tensorflow.keras.layers import Embedding, Conv1D, GlobalMaxPooling1D, Dense\n",
        "\n",
        "# Load the dataset\n",
        "data = pd.read_csv('FinalDataset.tsv', sep='\\t', on_bad_lines='skip')\n"
      ]
    },
    {
      "cell_type": "code",
      "source": [
        "import re\n",
        "\n",
        "def clean_text(text):\n",
        "    # Remove any HTML tags\n",
        "    text = re.sub(r'<.*?>', '', text)\n",
        "    # Remove non-alphanumeric characters\n",
        "    text = re.sub(r'[^a-zA-Z0-9\\s]', '', text)\n",
        "    # Convert to lowercase\n",
        "    text = text.lower()\n",
        "    return text\n",
        "\n",
        "data['review_body'] = data['review_body'].apply(clean_text)\n"
      ],
      "metadata": {
        "id": "fjuH6EsHrDdN"
      },
      "execution_count": null,
      "outputs": []
    },
    {
      "cell_type": "code",
      "source": [
        "X = data['review_body']\n",
        "y = data['star_rating']\n",
        "\n",
        "# Convert labels to one-hot encoding\n",
        "label_encoder = LabelEncoder()\n",
        "y = label_encoder.fit_transform(y)\n",
        "y = np.eye(len(set(y)))[y]\n",
        "\n",
        "# Split the data\n",
        "X_train, X_test, y_train, y_test = train_test_split(X, y, test_size=0.2, random_state=42)\n",
        "\n",
        "# Tokenization and padding\n",
        "tokenizer = Tokenizer(num_words=5000, oov_token='<OOV>')\n",
        "tokenizer.fit_on_texts(X_train)\n",
        "X_train_seq = tokenizer.texts_to_sequences(X_train)\n",
        "X_test_seq = tokenizer.texts_to_sequences(X_test)\n",
        "\n",
        "X_train_padded = pad_sequences(X_train_seq, maxlen=100, padding='post', truncating='post')\n",
        "X_test_padded = pad_sequences(X_test_seq, maxlen=100, padding='post', truncating='post')\n"
      ],
      "metadata": {
        "id": "Er_0srO5rH8R"
      },
      "execution_count": null,
      "outputs": []
    },
    {
      "cell_type": "code",
      "source": [
        "model = Sequential()\n",
        "\n",
        "# Embedding layer\n",
        "model.add(Embedding(input_dim=5000, output_dim=64, input_length=100))\n",
        "\n",
        "# Convolutional layer\n",
        "model.add(Conv1D(128, 5, activation='relu'))\n",
        "model.add(GlobalMaxPooling1D())\n",
        "\n",
        "# Dense layers\n",
        "model.add(Dense(64, activation='relu'))\n",
        "model.add(Dense(data['star_rating'].nunique(), activation='softmax'))\n",
        "\n",
        "# Compile the model\n",
        "model.compile(optimizer='adam', loss='categorical_crossentropy', metrics=['accuracy'])\n"
      ],
      "metadata": {
        "id": "c3MQyksIrONn"
      },
      "execution_count": null,
      "outputs": []
    },
    {
      "cell_type": "code",
      "source": [
        "model.fit(X_train_padded, y_train, epochs=5, validation_data=(X_test_padded, y_test))\n"
      ],
      "metadata": {
        "colab": {
          "base_uri": "https://localhost:8080/"
        },
        "id": "Yre_wPMJrmV9",
        "outputId": "735a2e68-644f-4391-b22f-ec9e1643e27a"
      },
      "execution_count": null,
      "outputs": [
        {
          "output_type": "stream",
          "name": "stdout",
          "text": [
            "Epoch 1/5\n",
            "499/499 [==============================] - 18s 30ms/step - loss: 0.9071 - accuracy: 0.6937 - val_loss: 0.7431 - val_accuracy: 0.7398\n",
            "Epoch 2/5\n",
            "499/499 [==============================] - 15s 29ms/step - loss: 0.6732 - accuracy: 0.7606 - val_loss: 0.7156 - val_accuracy: 0.7528\n",
            "Epoch 3/5\n",
            "499/499 [==============================] - 15s 29ms/step - loss: 0.5252 - accuracy: 0.8134 - val_loss: 0.7548 - val_accuracy: 0.7398\n",
            "Epoch 4/5\n",
            "499/499 [==============================] - 15s 29ms/step - loss: 0.3894 - accuracy: 0.8700 - val_loss: 0.8661 - val_accuracy: 0.7375\n",
            "Epoch 5/5\n",
            "499/499 [==============================] - 15s 29ms/step - loss: 0.2734 - accuracy: 0.9167 - val_loss: 0.9681 - val_accuracy: 0.7323\n"
          ]
        },
        {
          "output_type": "execute_result",
          "data": {
            "text/plain": [
              "<keras.src.callbacks.History at 0x7bef1f66c670>"
            ]
          },
          "metadata": {},
          "execution_count": 6
        }
      ]
    },
    {
      "cell_type": "code",
      "source": [
        "# Predictions\n",
        "y_pred = model.predict(X_test_padded)\n",
        "y_pred_classes = np.argmax(y_pred, axis=1)\n",
        "y_true_classes = np.argmax(y_test, axis=1)\n",
        "\n",
        "# Function to map original labels to new categories\n",
        "def map_sentiment(label):\n",
        "    if label in [0, 1]:  # Assuming original labels are 0-indexed\n",
        "        return 'negative'\n",
        "    elif label == 2:\n",
        "        return 'neutral'\n",
        "    else:\n",
        "        return 'positive'\n",
        "\n",
        "# Map the original labels to the new categories\n",
        "y_test_mapped = [map_sentiment(label) for label in y_true_classes]\n",
        "y_pred_mapped = [map_sentiment(label) for label in y_pred_classes]\n",
        "\n",
        "# Accuracy and other metrics\n",
        "from sklearn.metrics import classification_report\n",
        "print(classification_report(y_test_mapped, y_pred_mapped, labels=['negative', 'neutral', 'positive']))\n",
        "\n",
        "from sklearn.metrics import confusion_matrix\n",
        "\n",
        "# Compute and print the confusion matrix\n",
        "print(\"\\nConfusion Matrix:\\n\", confusion_matrix(y_test_mapped, y_pred_mapped, labels=['negative', 'neutral', 'positive']))\n",
        "\n"
      ],
      "metadata": {
        "colab": {
          "base_uri": "https://localhost:8080/"
        },
        "id": "YogOQIYtsN_k",
        "outputId": "eab0de4f-7171-436a-afa9-b688f00e0f4d"
      },
      "execution_count": null,
      "outputs": [
        {
          "output_type": "stream",
          "name": "stdout",
          "text": [
            "125/125 [==============================] - 1s 12ms/step\n",
            "              precision    recall  f1-score   support\n",
            "\n",
            "    negative       0.79      0.67      0.72       717\n",
            "     neutral       0.32      0.26      0.29       209\n",
            "    positive       0.91      0.96      0.93      3063\n",
            "\n",
            "    accuracy                           0.87      3989\n",
            "   macro avg       0.68      0.63      0.65      3989\n",
            "weighted avg       0.86      0.87      0.86      3989\n",
            "\n",
            "\n",
            "Confusion Matrix:\n",
            " [[ 478   65  174]\n",
            " [  45   55  109]\n",
            " [  79   51 2933]]\n"
          ]
        }
      ]
    }
  ]
}