{
  "nbformat": 4,
  "nbformat_minor": 0,
  "metadata": {
    "colab": {
      "provenance": []
    },
    "kernelspec": {
      "name": "python3",
      "display_name": "Python 3"
    },
    "language_info": {
      "name": "python"
    }
  },
  "cells": [
    {
      "cell_type": "code",
      "execution_count": null,
      "metadata": {
        "id": "zy-2TS1_bsWe"
      },
      "outputs": [],
      "source": [
        "import pandas as pd\n",
        "from sklearn.model_selection import train_test_split\n",
        "from sklearn.linear_model import LogisticRegression\n",
        "from sklearn.metrics import accuracy_score, classification_report, confusion_matrix\n"
      ]
    },
    {
      "cell_type": "code",
      "source": [
        "# Now using a TSV file named 'FinalDataset.tsv'\n",
        "data = pd.read_csv('FinalDataset.tsv', sep='\\t', quoting=3)\n",
        "data['review_body'] = data['review_body'].str.lower()  # Convert to lowercase\n"
      ],
      "metadata": {
        "id": "kn9J0lbfceIB"
      },
      "execution_count": null,
      "outputs": []
    },
    {
      "cell_type": "code",
      "source": [
        "X = data['review_body']\n",
        "y = data['star_rating']\n",
        "X_train, X_test, y_train, y_test = train_test_split(X, y, test_size=0.2, random_state=42)\n"
      ],
      "metadata": {
        "id": "ghXu6L9Rc-rQ"
      },
      "execution_count": null,
      "outputs": []
    },
    {
      "cell_type": "code",
      "source": [
        "from sklearn.feature_extraction.text import TfidfVectorizer\n",
        "\n",
        "vectorizer = TfidfVectorizer(max_features=5000)\n",
        "X_train_vec = vectorizer.fit_transform(X_train)\n",
        "X_test_vec = vectorizer.transform(X_test)\n"
      ],
      "metadata": {
        "id": "Ia4EbgKTdC4q"
      },
      "execution_count": null,
      "outputs": []
    },
    {
      "cell_type": "code",
      "source": [
        "model = LogisticRegression(max_iter=1000)\n",
        "model.fit(X_train_vec, y_train)\n",
        "\n",
        "# Function to map original labels to new categories\n",
        "def map_sentiment(label):\n",
        "    if label in [1, 2]:  # Assuming original labels are 1, 2, 3, 4, 5\n",
        "        return 'negative'\n",
        "    elif label == 3:\n",
        "        return 'neutral'\n",
        "    else:\n",
        "        return 'positive'\n",
        "\n",
        "# Predictions\n",
        "y_pred = model.predict(X_test_vec)\n",
        "\n",
        "# Map the original labels to the new categories\n",
        "y_test_mapped = [map_sentiment(label) for label in y_test]\n",
        "y_pred_mapped = [map_sentiment(label) for label in y_pred]\n",
        "\n",
        "from sklearn.metrics import confusion_matrix\n",
        "\n",
        "# Compute and print the confusion matrix\n",
        "print(\"\\nConfusion Matrix:\\n\", confusion_matrix(y_test_mapped, y_pred_mapped, labels=['negative', 'neutral', 'positive']))\n",
        "\n"
      ],
      "metadata": {
        "colab": {
          "base_uri": "https://localhost:8080/"
        },
        "id": "ArAKNpQDdGXJ",
        "outputId": "2be7d028-d1a1-4cb0-ef2d-ac13d68865aa"
      },
      "execution_count": null,
      "outputs": [
        {
          "output_type": "stream",
          "name": "stdout",
          "text": [
            "\n",
            "Confusion Matrix:\n",
            " [[ 462   14  232]\n",
            " [  51   30  151]\n",
            " [  63   23 2975]]\n"
          ]
        }
      ]
    },
    {
      "cell_type": "code",
      "source": [
        "y_pred = model.predict(X_test_vec)\n",
        "print(accuracy_score(y_test, y_pred))\n",
        "print(classification_report(y_test, y_pred))\n",
        "print(\"\\nConfusion Matrix:\\n\", confusion_matrix(y_test_mapped, y_pred_mapped, labels=['negative', 'neutral', 'positive']))\n"
      ],
      "metadata": {
        "colab": {
          "base_uri": "https://localhost:8080/"
        },
        "id": "N0jJYwtrdK-I",
        "outputId": "14b86c31-b32e-475a-aa3f-226dae907092"
      },
      "execution_count": null,
      "outputs": [
        {
          "output_type": "stream",
          "name": "stdout",
          "text": [
            "0.7513121719570107\n",
            "              precision    recall  f1-score   support\n",
            "\n",
            "           1       0.67      0.71      0.69       526\n",
            "           2       0.33      0.03      0.05       182\n",
            "           3       0.45      0.13      0.20       232\n",
            "           4       0.48      0.12      0.20       450\n",
            "           5       0.78      0.97      0.87      2611\n",
            "\n",
            "    accuracy                           0.75      4001\n",
            "   macro avg       0.54      0.39      0.40      4001\n",
            "weighted avg       0.69      0.75      0.69      4001\n",
            "\n",
            "\n",
            "Confusion Matrix:\n",
            " [[ 462   14  232]\n",
            " [  51   30  151]\n",
            " [  63   23 2975]]\n"
          ]
        }
      ]
    }
  ]
}